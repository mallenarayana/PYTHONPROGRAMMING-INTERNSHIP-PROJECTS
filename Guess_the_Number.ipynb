{
  "nbformat": 4,
  "nbformat_minor": 0,
  "metadata": {
    "colab": {
      "provenance": [],
      "authorship_tag": "ABX9TyNdeY6yQOFaWOKeeCYP5TsN",
      "include_colab_link": true
    },
    "kernelspec": {
      "name": "python3",
      "display_name": "Python 3"
    },
    "language_info": {
      "name": "python"
    }
  },
  "cells": [
    {
      "cell_type": "markdown",
      "metadata": {
        "id": "view-in-github",
        "colab_type": "text"
      },
      "source": [
        "<a href=\"https://colab.research.google.com/github/mallenarayana/PYTHONPROGRAMMING-INTERNSHIP-PROJECTS/blob/main/Guess_the_Number.ipynb\" target=\"_parent\"><img src=\"https://colab.research.google.com/assets/colab-badge.svg\" alt=\"Open In Colab\"/></a>"
      ]
    },
    {
      "cell_type": "code",
      "execution_count": 2,
      "metadata": {
        "colab": {
          "base_uri": "https://localhost:8080/"
        },
        "id": "FcXgmBzr7B_K",
        "outputId": "d76dceff-0fec-4242-b219-8442170fccc4"
      },
      "outputs": [
        {
          "output_type": "stream",
          "name": "stdout",
          "text": [
            "Welcome to 'Guess the Number'!\n",
            "I have selected a number between 1 and 100. Can you guess it?\n",
            "Enter your guess: 91\n",
            "Too high!\n",
            "You have 9 attempts remaining.\n",
            "Enter your guess: 80\n",
            "Too high!\n",
            "You have 8 attempts remaining.\n",
            "Enter your guess: 70\n",
            "Too high!\n",
            "You have 7 attempts remaining.\n",
            "Enter your guess: 50\n",
            "Too high!\n",
            "You have 6 attempts remaining.\n",
            "Enter your guess: 20\n",
            "Too high!\n",
            "You have 5 attempts remaining.\n",
            "Enter your guess: 5\n",
            "Too low!\n",
            "You have 4 attempts remaining.\n",
            "Enter your guess: 9\n",
            "Too low!\n",
            "You have 3 attempts remaining.\n",
            "Enter your guess: 15\n",
            "Too high!\n",
            "You have 2 attempts remaining.\n",
            "Enter your guess: 10\n",
            "Too low!\n",
            "You have 1 attempts remaining.\n",
            "Enter your guess: 12\n",
            "Congratulations! You've guessed the number!\n",
            "Sorry, you've run out of attempts. The number was 12.\n"
          ]
        },
        {
          "output_type": "execute_result",
          "data": {
            "text/plain": [
              "91"
            ]
          },
          "metadata": {},
          "execution_count": 2
        }
      ],
      "source": [
        "import random\n",
        "\n",
        "def guess_the_number():\n",
        "    number_to_guess = random.randint(1, 100)\n",
        "    attempts = 10\n",
        "\n",
        "    print(\"Welcome to 'Guess the Number'!\")\n",
        "    print(\"I have selected a number between 1 and 100. Can you guess it?\")\n",
        "\n",
        "    while attempts > 0:\n",
        "        guess = int(input(\"Enter your guess: \"))\n",
        "        attempts -= 1\n",
        "\n",
        "        if guess < number_to_guess:\n",
        "            print(\"Too low!\")\n",
        "        elif guess > number_to_guess:\n",
        "            print(\"Too high!\")\n",
        "        else:\n",
        "            print(\"Congratulations! You've guessed the number!\")\n",
        "            break\n",
        "\n",
        "        print(f\"You have {attempts} attempts remaining.\")\n",
        "\n",
        "    if attempts == 0:\n",
        "        print(f\"Sorry, you've run out of attempts. The number was {number_to_guess}.\")\n",
        "\n",
        "if __name__ == \"__main__\":\n",
        "    guess_the_number()\n",
        "91\n"
      ]
    }
  ]
}