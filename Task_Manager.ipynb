{
  "nbformat": 4,
  "nbformat_minor": 0,
  "metadata": {
    "colab": {
      "provenance": [],
      "authorship_tag": "ABX9TyPU08EtkxH5JthUnzH2RXm+",
      "include_colab_link": true
    },
    "kernelspec": {
      "name": "python3",
      "display_name": "Python 3"
    },
    "language_info": {
      "name": "python"
    }
  },
  "cells": [
    {
      "cell_type": "markdown",
      "metadata": {
        "id": "view-in-github",
        "colab_type": "text"
      },
      "source": [
        "<a href=\"https://colab.research.google.com/github/mallenarayana/PYTHONPROGRAMMING-INTERNSHIP-PROJECTS/blob/main/Task_Manager.ipynb\" target=\"_parent\"><img src=\"https://colab.research.google.com/assets/colab-badge.svg\" alt=\"Open In Colab\"/></a>"
      ]
    },
    {
      "cell_type": "code",
      "execution_count": null,
      "metadata": {
        "colab": {
          "base_uri": "https://localhost:8080/"
        },
        "id": "iTsoxBMy9C9H",
        "outputId": "8b601347-1f40-41c9-cbbd-23a2acd20175"
      },
      "outputs": [
        {
          "output_type": "stream",
          "name": "stdout",
          "text": [
            "\n",
            "Task Manager\n",
            "1. Display tasks\n",
            "2. Add task\n",
            "3. Edit task\n",
            "4. Delete task\n",
            "5. Mark task as complete\n",
            "6. Save and exit\n"
          ]
        }
      ],
      "source": [
        "import json\n",
        "\n",
        "def load_tasks(filename):\n",
        "    try:\n",
        "        with open(filename, 'r') as file:\n",
        "            return json.load(file)\n",
        "    except FileNotFoundError:\n",
        "        return []\n",
        "\n",
        "def save_tasks(tasks, filename):\n",
        "    with open(filename, 'w') as file:\n",
        "        json.dump(tasks, file)\n",
        "\n",
        "def display_tasks(tasks):\n",
        "    for i, task in enumerate(tasks):\n",
        "        status = \"Complete\" if task['completed'] else \"Incomplete\"\n",
        "        print(f\"{i + 1}. {task['description']} - {status}\")\n",
        "\n",
        "def add_task(tasks):\n",
        "    description = input(\"Enter the task description: \")\n",
        "    tasks.append({\"description\": description, \"completed\": False})\n",
        "\n",
        "def edit_task(tasks):\n",
        "    display_tasks(tasks)\n",
        "    task_num = int(input(\"Enter the task number to edit: \")) - 1\n",
        "    if 0 <= task_num < len(tasks):\n",
        "        tasks[task_num]['description'] = input(\"Enter the new task description: \")\n",
        "\n",
        "def delete_task(tasks):\n",
        "    display_tasks(tasks)\n",
        "    task_num = int(input(\"Enter the task number to delete: \")) - 1\n",
        "    if 0 <= task_num < len(tasks):\n",
        "        tasks.pop(task_num)\n",
        "\n",
        "def mark_task_complete(tasks):\n",
        "    display_tasks(tasks)\n",
        "    task_num = int(input(\"Enter the task number to mark as complete: \")) - 1\n",
        "    if 0 <= task_num < len(tasks):\n",
        "        tasks[task_num]['completed'] = True\n",
        "\n",
        "def main():\n",
        "    filename = 'tasks.json'\n",
        "    tasks = load_tasks(filename)\n",
        "\n",
        "    while True:\n",
        "        print(\"\\nTask Manager\")\n",
        "        print(\"1. Display tasks\")\n",
        "        print(\"2. Add task\")\n",
        "        print(\"3. Edit task\")\n",
        "        print(\"4. Delete task\")\n",
        "        print(\"5. Mark task as complete\")\n",
        "        print(\"6. Save and exit\")\n",
        "\n",
        "        choice = input(\"Enter your choice: \")\n",
        "\n",
        "        if choice == '1':\n",
        "            display_tasks(tasks)\n",
        "        elif choice == '2':\n",
        "            add_task(tasks)\n",
        "        elif choice == '3':\n",
        "            edit_task(tasks)\n",
        "        elif choice == '4':\n",
        "            delete_task(tasks)\n",
        "        elif choice == '5':\n",
        "            mark_task_complete(tasks)\n",
        "        elif choice == '6':\n",
        "            save_tasks(tasks, filename)\n",
        "            break\n",
        "        else:\n",
        "            print(\"Invalid choice. Please try again.\")\n",
        "\n",
        "if __name__ == \"__main__\":\n",
        "    main()\n"
      ]
    },
    {
      "cell_type": "code",
      "source": [],
      "metadata": {
        "id": "DL6nuBvV9Zlt"
      },
      "execution_count": null,
      "outputs": []
    }
  ]
}